{
 "cells": [
  {
   "cell_type": "code",
   "execution_count": null,
   "id": "c31db48c",
   "metadata": {},
   "outputs": [],
   "source": [
    "import nltk\n",
    "from nltk.corpus import stopwords\n",
    "stopwords.fileids()"
   ]
  },
  {
   "cell_type": "code",
   "execution_count": null,
   "id": "f167dc49",
   "metadata": {},
   "outputs": [],
   "source": [
    "from nltk.corpus import stopwords\n",
    "stopwords.fileids()\n",
    "Test=\"An article is qualunque member van un class of dedicated words naquele estão used with noun phrases per mark the identifiability of the referents of the noun phrases\"\n",
    "\n",
    "\n",
    "lan = stopwords.fileids()\n",
    "\n",
    "pun = '''!()-[]{};:'\"\\,<>./?@#$%^&*_~'''  #All Punctuations\n",
    "no_pun = \"\"\n",
    "\n",
    "for ch in Test:                          #Removes Punctuations\n",
    "    if ch not in pun:\n",
    "        no_pun = no_pun + ch \n",
    "\n",
    "temp = no_pun.split()\n",
    "stringlist = []\n",
    "\n",
    "for i in temp:                          #Unique stopwords in string\n",
    "    if i not in stringlist:\n",
    "        temp = i.lower()\n",
    "        stringlist.append(temp)\n",
    "\n",
    "count = []        \n",
    "\n",
    "for i in lan:\n",
    "    total = 0\n",
    "    stopw = stopwords.words(i)         #Generates List with stopwords of a language one at a time\n",
    "\n",
    "    for j in stopw:                    #Checks a single stopword with entire string\n",
    "        for z in stringlist:           \n",
    "\n",
    "            if j == z:\n",
    "                total = total + 1\n",
    "\n",
    "    count.append(total)\n",
    " #   print(count)\n",
    "\n",
    "\n",
    "dic1 = dict(zip(lan,count))            #Conver\n",
    "    #`ts into a dictionary to display\n",
    "print(dic1)"
   ]
  }
 ],
 "metadata": {
  "kernelspec": {
   "display_name": "Python 3 (ipykernel)",
   "language": "python",
   "name": "python3"
  },
  "language_info": {
   "codemirror_mode": {
    "name": "ipython",
    "version": 3
   },
   "file_extension": ".py",
   "mimetype": "text/x-python",
   "name": "python",
   "nbconvert_exporter": "python",
   "pygments_lexer": "ipython3",
   "version": "3.9.12"
  }
 },
 "nbformat": 4,
 "nbformat_minor": 5
}
